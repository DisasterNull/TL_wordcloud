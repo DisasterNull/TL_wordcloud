{
 "cells": [
  {
   "cell_type": "code",
   "execution_count": null,
   "metadata": {
    "collapsed": true,
    "pycharm": {
     "name": "#%%\n"
    }
   },
   "outputs": [],
   "source": []
  },
  {
   "cell_type": "code",
   "execution_count": null,
   "outputs": [],
   "source": [],
   "metadata": {
    "collapsed": false,
    "pycharm": {
     "name": "#%%\n"
    }
   }
  },
  {
   "cell_type": "code",
   "execution_count": 6,
   "outputs": [],
   "source": [
    "import csv\n",
    "text = []\n",
    "csvfile = open('user_dictionary.csv')\n",
    "for row in csv.reader(csvfile):\n",
    "    text.append(row)"
   ],
   "metadata": {
    "collapsed": false,
    "pycharm": {
     "name": "#%%\n"
    }
   }
  },
  {
   "cell_type": "code",
   "execution_count": 7,
   "outputs": [
    {
     "data": {
      "text/plain": "[['ぽゅん', '-1', '-1', '1000', '名詞', '一般', '*', '*', '*', '*', 'ぽゅん', '*', '*'],\n ['リア充', '-1', '-1', '1000', '名詞', '一般', '*', '*', '*', '*', 'リア充', '*', '*'],\n ['ツイ廃', '-1', '-1', '1000', '名詞', '一般', '*', '*', '*', '*', 'ツイ廃', '*', '*'],\n ['鶯餅', '-1', '-1', '1000', '名詞', '一般', '*', '*', '*', '*', '鶯餅', '*', '*'],\n ['電情', '-1', '-1', '1000', '名詞', '一般', '*', '*', '*', '*', '電情', '*', '*'],\n ['ストゼロ',\n  '-1',\n  '-1',\n  '1000',\n  '名詞',\n  '一般',\n  '*',\n  '*',\n  '*',\n  '*',\n  'ストゼロ',\n  '*',\n  '*'],\n ['破壊のみ',\n  '-1',\n  '-1',\n  '1000',\n  '名詞',\n  '一般',\n  '*',\n  '*',\n  '*',\n  '*',\n  '破壊のみ',\n  '*',\n  '*'],\n ['破壊飲み',\n  '-1',\n  '-1',\n  '1000',\n  '名詞',\n  '一般',\n  '*',\n  '*',\n  '*',\n  '*',\n  '破壊飲み',\n  '*',\n  '*'],\n ['全裸ダンス',\n  '-1',\n  '-1',\n  '1000',\n  '名詞',\n  '一般',\n  '*',\n  '*',\n  '*',\n  '*',\n  '全裸ダンス',\n  '*',\n  '*'],\n ['異常言語',\n  '-1',\n  '-1',\n  '1000',\n  '名詞',\n  '一般',\n  '*',\n  '*',\n  '*',\n  '*',\n  '異常言語',\n  '*',\n  '*'],\n ['宵崎奏', '-1', '-1', '1000', '名詞', '一般', '*', '*', '*', '*', '宵崎奏', '*', '*'],\n ['誕生日', '-1', '-1', '1000', '名詞', '一般', '*', '*', '*', '*', '誕生日', '*', '*'],\n ['性の6時間',\n  '-1',\n  '-1',\n  '1000',\n  '名詞',\n  '一般',\n  '*',\n  '*',\n  '*',\n  '*',\n  '性の6時間',\n  '*',\n  '*'],\n []]"
     },
     "execution_count": 7,
     "metadata": {},
     "output_type": "execute_result"
    }
   ],
   "source": [
    "words_dic.to_csv(\"energywords_dic.csv\", sep=\",\",index=False,header=False,encoding='cp932')"
   ],
   "metadata": {
    "collapsed": false,
    "pycharm": {
     "name": "#%%\n"
    }
   }
  },
  {
   "cell_type": "code",
   "execution_count": null,
   "outputs": [],
   "source": [],
   "metadata": {
    "collapsed": false,
    "pycharm": {
     "name": "#%%\n"
    }
   }
  }
 ],
 "metadata": {
  "kernelspec": {
   "display_name": "Python 3",
   "language": "python",
   "name": "python3"
  },
  "language_info": {
   "codemirror_mode": {
    "name": "ipython",
    "version": 2
   },
   "file_extension": ".py",
   "mimetype": "text/x-python",
   "name": "python",
   "nbconvert_exporter": "python",
   "pygments_lexer": "ipython2",
   "version": "2.7.6"
  }
 },
 "nbformat": 4,
 "nbformat_minor": 0
}